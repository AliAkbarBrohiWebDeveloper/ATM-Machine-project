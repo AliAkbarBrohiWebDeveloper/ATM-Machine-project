{
  "nbformat": 4,
  "nbformat_minor": 0,
  "metadata": {
    "colab": {
      "provenance": [],
      "authorship_tag": "ABX9TyNm1jfN//JRZdXHe94hx6TQ",
      "include_colab_link": true
    },
    "kernelspec": {
      "name": "python3",
      "display_name": "Python 3"
    },
    "language_info": {
      "name": "python"
    }
  },
  "cells": [
    {
      "cell_type": "markdown",
      "metadata": {
        "id": "view-in-github",
        "colab_type": "text"
      },
      "source": [
        "<a href=\"https://colab.research.google.com/github/AliAkbarBrohiWebDeveloper/ATM-Machine-project/blob/main/Untitled1.ipynb\" target=\"_parent\"><img src=\"https://colab.research.google.com/assets/colab-badge.svg\" alt=\"Open In Colab\"/></a>"
      ]
    },
    {
      "cell_type": "code",
      "execution_count": 1,
      "metadata": {
        "colab": {
          "base_uri": "https://localhost:8080/"
        },
        "id": "V9ey5O390cal",
        "outputId": "030ebdb2-357e-4d3e-ecdb-762ef4a9e651"
      },
      "outputs": [
        {
          "output_type": "stream",
          "name": "stdout",
          "text": [
            " Hi Ali Akbar\n",
            "You won the lotterry of $1 Million\n"
          ]
        }
      ],
      "source": [
        "#f string d string\n",
        "first_name:str=\"Ali Akbar\"\n",
        "email =f\"\"\" Hi {first_name}\n",
        "You won the lotterry of $1 Million\"\"\"\n",
        "print(email)\n",
        "\n"
      ]
    }
  ]
}